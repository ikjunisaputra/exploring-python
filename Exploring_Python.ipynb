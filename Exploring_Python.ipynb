{
  "nbformat": 4,
  "nbformat_minor": 0,
  "metadata": {
    "colab": {
      "name": "Exploring Python",
      "provenance": []
    },
    "kernelspec": {
      "name": "python3",
      "display_name": "Python 3"
    },
    "language_info": {
      "name": "python"
    }
  },
  "cells": [
    {
      "cell_type": "code",
      "execution_count": null,
      "metadata": {
        "id": "Vb1qKyhghNPi"
      },
      "outputs": [],
      "source": [
        "pict_dictionary = {\"1\": [[1,1,0], [0,1,0], [0,1,0], [0,1,0], [1,1,1]],\n",
        "                              \"2\":[[1,1,1], [0,0,1], [1,1,1], [1,0,0], [1,1,1]],\n",
        "                              \"3\":[[1,1,1], [0,0,1], [1,1,1], [0,0,1], [1,1,1]],\n",
        "                              \"4\":[[1,0,1], [1,0,1], [1,1,1], [0,0,1], [0,0,1]],\n",
        "                              \"5\":[[1,1,1], [1,0,0], [1,1,1], [0,0,1], [1,1,1]]}\n",
        "\n",
        "def modul_draw(kata_input):\n",
        "  list_input = []\n",
        "  list_input.extend(kata_input)\n",
        "\n",
        "  row_value = [[],[],[],[],[]]\n",
        "  for input in list_input:\n",
        "    list_row = pict_dictionary[input]\n",
        "    row_num = 0\n",
        "    for row in list_row:\n",
        "      row_value[row_num].append(row)\n",
        "      row_num +=1\n",
        "  \n",
        "  row_final = [[],[],[],[],[]]\n",
        "  num_r = 0\n",
        "  for row in row_value:\n",
        "    num = 1\n",
        "    for value_row in row_value[num_r]:\n",
        "      for kata in value_row:\n",
        "        if (kata*num) != 0:\n",
        "          row_final[num_r].append((kata*num)-1)\n",
        "        num += 1\n",
        "      num +=1\n",
        "    num_r += 1\n",
        "  \n",
        "  for row in range(5):\n",
        "    for col in range(len(list_input)*4):\n",
        "      if row == 0 and col in row_final[0]:\n",
        "        print(\"#\", end = \" \")\n",
        "      elif row == 1 and col  in row_final[1]:\n",
        "        print(\"#\", end = \" \")\n",
        "      elif row == 2 and col in row_final[2]:\n",
        "        print(\"#\", end = \" \")\n",
        "      elif row == 3 and col in row_final[3]:\n",
        "        print(\"#\", end = \" \")\n",
        "      elif row == 4 and col in row_final[4]:\n",
        "        print(\"#\", end = \" \")\n",
        "      else:\n",
        "        print(\"   \", end = \" \")\n",
        "    print()"
      ]
    },
    {
      "cell_type": "code",
      "source": [
        "value = input(\"Input = \")\n",
        "modul_draw(value)"
      ],
      "metadata": {
        "id": "U4wcsNAghW-m"
      },
      "execution_count": null,
      "outputs": []
    }
  ]
}